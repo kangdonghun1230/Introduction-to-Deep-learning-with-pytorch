{
 "cells": [
  {
   "cell_type": "code",
   "execution_count": 30,
   "id": "21cff54d",
   "metadata": {},
   "outputs": [],
   "source": [
    "import torch\n",
    "import torch.nn.functional as F\n",
    "\n",
    "from torch.utils.data import Dataset\n",
    "from torch.utils.data import DataLoader"
   ]
  },
  {
   "cell_type": "code",
   "execution_count": 39,
   "id": "f3f05b91",
   "metadata": {},
   "outputs": [],
   "source": [
    "# Dataset을 상속해서 custom dataset class 정의\n",
    "class CustomDataset(Dataset):\n",
    "    def __init__(self):\n",
    "        self.x_data = [[73, 80, 75],\n",
    "                      [93, 88, 93],\n",
    "                      [89, 91, 90],\n",
    "                      [96, 98, 100],\n",
    "                      [73, 66, 70]]\n",
    "        self.y_data = [[152], [185], [180], [196], [142]]\n",
    "        \n",
    "    # return the number of datas\n",
    "    def __len__(self):\n",
    "        return len(self.x_data)\n",
    "    \n",
    "    def __getitem__(self, idx):\n",
    "        x = torch.FloatTensor(self.x_data[idx])\n",
    "        y = torch.FloatTensor(self.y_data[idx])\n",
    "        return x, y"
   ]
  },
  {
   "cell_type": "code",
   "execution_count": 40,
   "id": "a8d3bed9",
   "metadata": {},
   "outputs": [],
   "source": [
    "# dataset과 dataloader를 정의\n",
    "dataset = CustomDataset()\n",
    "dataloader = DataLoader(dataset, batch_size=2, shuffle=True)"
   ]
  },
  {
   "cell_type": "code",
   "execution_count": 41,
   "id": "0329dd59",
   "metadata": {},
   "outputs": [],
   "source": [
    "# model은 간단한 input size 3, output size 1의 linear model을 선언해줍니다.\n",
    "model = torch.nn.Linear(3, 1)\n",
    "# optimizer로 torch module에서 제공하는 SGD 선언, learning rate = 0.01로 설정\n",
    "optimizer = torch.optim.SGD(model.parameters(), lr=1e-5)"
   ]
  },
  {
   "cell_type": "code",
   "execution_count": 42,
   "id": "40e4ab0c",
   "metadata": {},
   "outputs": [
    {
     "name": "stdout",
     "output_type": "stream",
     "text": [
      "Epoch    0/20 Batch 1/3 Cost: 27226.794922\n",
      "Epoch    0/20 Batch 2/3 Cost: 6110.523438\n",
      "Epoch    0/20 Batch 3/3 Cost: 1494.764648\n",
      "Epoch    1/20 Batch 1/3 Cost: 809.018127\n",
      "Epoch    1/20 Batch 2/3 Cost: 316.365875\n",
      "Epoch    1/20 Batch 3/3 Cost: 91.961296\n",
      "Epoch    2/20 Batch 1/3 Cost: 48.752724\n",
      "Epoch    2/20 Batch 2/3 Cost: 1.982590\n",
      "Epoch    2/20 Batch 3/3 Cost: 0.004669\n",
      "Epoch    3/20 Batch 1/3 Cost: 8.848617\n",
      "Epoch    3/20 Batch 2/3 Cost: 2.483912\n",
      "Epoch    3/20 Batch 3/3 Cost: 2.571556\n",
      "Epoch    4/20 Batch 1/3 Cost: 0.270595\n",
      "Epoch    4/20 Batch 2/3 Cost: 3.611983\n",
      "Epoch    4/20 Batch 3/3 Cost: 9.883855\n",
      "Epoch    5/20 Batch 1/3 Cost: 5.867000\n",
      "Epoch    5/20 Batch 2/3 Cost: 1.445427\n",
      "Epoch    5/20 Batch 3/3 Cost: 2.545782\n",
      "Epoch    6/20 Batch 1/3 Cost: 3.641122\n",
      "Epoch    6/20 Batch 2/3 Cost: 0.963754\n",
      "Epoch    6/20 Batch 3/3 Cost: 8.750894\n",
      "Epoch    7/20 Batch 1/3 Cost: 5.226875\n",
      "Epoch    7/20 Batch 2/3 Cost: 4.601327\n",
      "Epoch    7/20 Batch 3/3 Cost: 1.725301\n",
      "Epoch    8/20 Batch 1/3 Cost: 2.490105\n",
      "Epoch    8/20 Batch 2/3 Cost: 4.300104\n",
      "Epoch    8/20 Batch 3/3 Cost: 5.398660\n",
      "Epoch    9/20 Batch 1/3 Cost: 0.484320\n",
      "Epoch    9/20 Batch 2/3 Cost: 6.374668\n",
      "Epoch    9/20 Batch 3/3 Cost: 3.406507\n",
      "Epoch   10/20 Batch 1/3 Cost: 3.856364\n",
      "Epoch   10/20 Batch 2/3 Cost: 6.567489\n",
      "Epoch   10/20 Batch 3/3 Cost: 1.825030\n",
      "Epoch   11/20 Batch 1/3 Cost: 5.487125\n",
      "Epoch   11/20 Batch 2/3 Cost: 0.754674\n",
      "Epoch   11/20 Batch 3/3 Cost: 3.221087\n",
      "Epoch   12/20 Batch 1/3 Cost: 3.590713\n",
      "Epoch   12/20 Batch 2/3 Cost: 4.281815\n",
      "Epoch   12/20 Batch 3/3 Cost: 3.125411\n",
      "Epoch   13/20 Batch 1/3 Cost: 3.447338\n",
      "Epoch   13/20 Batch 2/3 Cost: 0.869590\n",
      "Epoch   13/20 Batch 3/3 Cost: 8.780620\n",
      "Epoch   14/20 Batch 1/3 Cost: 2.392726\n",
      "Epoch   14/20 Batch 2/3 Cost: 4.327319\n",
      "Epoch   14/20 Batch 3/3 Cost: 5.443139\n",
      "Epoch   15/20 Batch 1/3 Cost: 8.182382\n",
      "Epoch   15/20 Batch 2/3 Cost: 3.272340\n",
      "Epoch   15/20 Batch 3/3 Cost: 0.120960\n",
      "Epoch   16/20 Batch 1/3 Cost: 0.061563\n",
      "Epoch   16/20 Batch 2/3 Cost: 5.997852\n",
      "Epoch   16/20 Batch 3/3 Cost: 3.400427\n",
      "Epoch   17/20 Batch 1/3 Cost: 3.739166\n",
      "Epoch   17/20 Batch 2/3 Cost: 4.663460\n",
      "Epoch   17/20 Batch 3/3 Cost: 1.848855\n",
      "Epoch   18/20 Batch 1/3 Cost: 1.441109\n",
      "Epoch   18/20 Batch 2/3 Cost: 3.483259\n",
      "Epoch   18/20 Batch 3/3 Cost: 6.959691\n",
      "Epoch   19/20 Batch 1/3 Cost: 0.037814\n",
      "Epoch   19/20 Batch 2/3 Cost: 6.026850\n",
      "Epoch   19/20 Batch 3/3 Cost: 3.459432\n",
      "Epoch   20/20 Batch 1/3 Cost: 1.212038\n",
      "Epoch   20/20 Batch 2/3 Cost: 3.586433\n",
      "Epoch   20/20 Batch 3/3 Cost: 6.373206\n"
     ]
    }
   ],
   "source": [
    "# 20 epoch만 실행\n",
    "nb_epochs = 20\n",
    "\n",
    "for epoch in range(nb_epochs + 1):\n",
    "    # enumerate 이용해서 index, data 나누어준다.\n",
    "    for batch_idx, samples in enumerate(dataloader):\n",
    "        #print(batch_idx)\n",
    "        #print(samples)\n",
    "        # training dataset 선언\n",
    "        x_train, y_train = samples\n",
    "        \n",
    "        # H(x) 계산\n",
    "        hypothesis = model(x_train)\n",
    "        \n",
    "        # cost 계산 with mse(mean squared error)\n",
    "        cost = F.mse_loss(hypothesis, y_train)\n",
    "        \n",
    "        # cost로 H(x) 개선\n",
    "        optimizer.zero_grad()\n",
    "        # 역전파 연산\n",
    "        cost.backward()\n",
    "        # 결과 값 반영\n",
    "        optimizer.step()\n",
    "        \n",
    "        print('Epoch {:4d}/{} Batch {}/{} Cost: {:.6f}'.format(\n",
    "        epoch, nb_epochs, batch_idx+1, len(dataloader),\n",
    "        cost.item()\n",
    "        ))        "
   ]
  },
  {
   "cell_type": "code",
   "execution_count": 43,
   "id": "3f774ebb",
   "metadata": {},
   "outputs": [
    {
     "name": "stdout",
     "output_type": "stream",
     "text": [
      "training 후 입력이 73, 80, 75인 경우 예측값 :  tensor([[152.2082]], grad_fn=<AddmmBackward>)\n"
     ]
    }
   ],
   "source": [
    "# 임의의 입력 [73, 80, 75]를 선언한 후 이 값을 model에 넣어봅시다.\n",
    "new_input = torch.FloatTensor([[73, 80, 75]])\n",
    "# pred_y는 모델을 통해 예측한 값을 의미합니다.\n",
    "pred_y = model(new_input)\n",
    "print(\"training 후 입력이 73, 80, 75인 경우 예측값 : \", pred_y)"
   ]
  },
  {
   "cell_type": "code",
   "execution_count": null,
   "id": "38b94a96",
   "metadata": {},
   "outputs": [],
   "source": []
  }
 ],
 "metadata": {
  "kernelspec": {
   "display_name": "Python 3",
   "language": "python",
   "name": "python3"
  },
  "language_info": {
   "codemirror_mode": {
    "name": "ipython",
    "version": 3
   },
   "file_extension": ".py",
   "mimetype": "text/x-python",
   "name": "python",
   "nbconvert_exporter": "python",
   "pygments_lexer": "ipython3",
   "version": "3.8.8"
  }
 },
 "nbformat": 4,
 "nbformat_minor": 5
}
