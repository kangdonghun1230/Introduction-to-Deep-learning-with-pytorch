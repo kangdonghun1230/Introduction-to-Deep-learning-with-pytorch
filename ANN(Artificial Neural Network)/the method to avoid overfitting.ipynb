{
 "cells": [
  {
   "cell_type": "code",
   "execution_count": 1,
   "id": "4dd19be4",
   "metadata": {},
   "outputs": [],
   "source": [
    "import torch\n",
    "import torch.nn as nn"
   ]
  },
  {
   "cell_type": "markdown",
   "id": "18b9fd83",
   "metadata": {},
   "source": [
    "### 기존의 ANN model"
   ]
  },
  {
   "cell_type": "code",
   "execution_count": 2,
   "id": "6fb01ae1",
   "metadata": {},
   "outputs": [],
   "source": [
    "class Architecture1(nn.Module):\n",
    "    def __init__(self, input_size, hidden_size, num_classes):\n",
    "        super(Architecture1, self).__init__()\n",
    "        self.fc1 = nn.Linear(input_size, hidden_size)\n",
    "        self.relu = nn.ReLU()\n",
    "        self.fc2 = nn.Linear(hidden_size, hidden_size)\n",
    "        self.relu = nn.ReLU()\n",
    "        self.fc3 = nn.Linear(hidden_size, num_classes)\n",
    "        \n",
    "    def forward(self, x):\n",
    "        out = self.fc1(x)\n",
    "        out = self.relu(out)\n",
    "        out = self.fc2(out)\n",
    "        out = self.relu(out)\n",
    "        out = self.fc3(out)\n",
    "        return out"
   ]
  },
  {
   "cell_type": "markdown",
   "id": "9a4b8bc7",
   "metadata": {},
   "source": [
    "### 과적합 방지를 위해 layer 수를 줄여 복잡도를 줄인 model"
   ]
  },
  {
   "cell_type": "code",
   "execution_count": 4,
   "id": "7308c099",
   "metadata": {},
   "outputs": [],
   "source": [
    "class Architecture1(nn.Module):\n",
    "    def __init__(self, input_size, hidden_size, num_classes):\n",
    "        super(Architecture1, self).__init__()\n",
    "        self.fc1 = nn.Linear(input_size, hidden_size)\n",
    "        self.relu = nn.ReLU()\n",
    "        self.fc2 = nn.Linear(hidden_size, num_classes)\n",
    "\n",
    "    def forward(self, x):\n",
    "        out = self.fc1(x)\n",
    "        out = self.relu(out)\n",
    "        out = self.fc2(out)\n",
    "        return out"
   ]
  },
  {
   "cell_type": "markdown",
   "id": "b9ad9c63",
   "metadata": {},
   "source": [
    "### 가중치 규제 (Regularization)을 적용하여 복잡도를 줄이는 방법\n",
    "L1 regularization, L2 regularization이 존재하는데, L1은 weight의 절댓값의 합을 cost function에 더해서 최적화 하는 방법, L2는 weight들의 제곱의 평균을 cost function에 더해 최적화 하는 방법을 의미한다.\n",
    "<br><br>\n",
    "L1 규제는 어떠한 특성들이 모델에 영향을 주고 있는지 정확히 판단하고자 할 때 유용하다. 그런데 이러한 판단의 목적으로 사용하는 것이 아니라면 경험적으로 <u>L2 norm이 더 잘 동작한다</u>고 한다.\n",
    "<br><br>\n",
    "L2 norm은 weight decay라고도 부르며, pytorch에서 optimzer선언 시 weight_decay 매개변수를 설정함으로서 L2 norm을 적용할 수 있다. weight_decay의 default 값은 0이다."
   ]
  },
  {
   "cell_type": "code",
   "execution_count": 5,
   "id": "6350279e",
   "metadata": {},
   "outputs": [],
   "source": [
    "model = Architecture1(10, 20, 2)\n",
    "# L2 regularization : 0.00005\n",
    "optimizer = torch.optim.Adam(model.parameters(), lr=1e-4, weight_decay=1e-5)"
   ]
  },
  {
   "cell_type": "code",
   "execution_count": null,
   "id": "28c076a5",
   "metadata": {},
   "outputs": [],
   "source": []
  }
 ],
 "metadata": {
  "kernelspec": {
   "display_name": "Python 3",
   "language": "python",
   "name": "python3"
  },
  "language_info": {
   "codemirror_mode": {
    "name": "ipython",
    "version": 3
   },
   "file_extension": ".py",
   "mimetype": "text/x-python",
   "name": "python",
   "nbconvert_exporter": "python",
   "pygments_lexer": "ipython3",
   "version": "3.8.8"
  }
 },
 "nbformat": 4,
 "nbformat_minor": 5
}
