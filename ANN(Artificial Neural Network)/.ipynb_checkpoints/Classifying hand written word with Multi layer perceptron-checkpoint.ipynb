{
 "cells": [
  {
   "cell_type": "code",
   "execution_count": 1,
   "id": "d9d1cd39",
   "metadata": {},
   "outputs": [],
   "source": [
    "%matplotlib inline\n",
    "import matplotlib.pyplot as plt # 시각화를 위한 맷플롯립\n",
    "from sklearn.datasets import load_digits\n",
    "digits = load_digits() # 1,979개의 이미지 데이터 로드"
   ]
  },
  {
   "cell_type": "markdown",
   "id": "fc5c08f0",
   "metadata": {},
   "source": [
    "load_digits()를 통해 이미지 데이터를 로드할 수 있습니다. 로드한 전체 데이터를 digits에 저장합니다.<br>\n",
    "첫 번째 샘플을 출력해보겠습다."
   ]
  },
  {
   "cell_type": "code",
   "execution_count": 2,
   "id": "ab3855b6",
   "metadata": {},
   "outputs": [
    {
     "name": "stdout",
     "output_type": "stream",
     "text": [
      "[[ 0.  0.  5. 13.  9.  1.  0.  0.]\n",
      " [ 0.  0. 13. 15. 10. 15.  5.  0.]\n",
      " [ 0.  3. 15.  2.  0. 11.  8.  0.]\n",
      " [ 0.  4. 12.  0.  0.  8.  8.  0.]\n",
      " [ 0.  5.  8.  0.  0.  9.  8.  0.]\n",
      " [ 0.  4. 11.  0.  1. 12.  7.  0.]\n",
      " [ 0.  2. 14.  5. 10. 12.  0.  0.]\n",
      " [ 0.  0.  6. 13. 10.  0.  0.  0.]]\n"
     ]
    }
   ],
   "source": [
    "print(digits.images[0])"
   ]
  },
  {
   "cell_type": "markdown",
   "id": "33fa96be",
   "metadata": {},
   "source": [
    "0을 흰색, 0 이상의 숫자가 검은색을 의미한다고 하면 숫자 '0'의 실루엣이 그려집니다.\n",
    "실제 확인한 결과는 다음과 같습니다."
   ]
  },
  {
   "cell_type": "code",
   "execution_count": 3,
   "id": "74069976",
   "metadata": {},
   "outputs": [
    {
     "name": "stdout",
     "output_type": "stream",
     "text": [
      "0\n"
     ]
    }
   ],
   "source": [
    "print(digits.target[0])"
   ]
  },
  {
   "cell_type": "code",
   "execution_count": 5,
   "id": "1bd0d808",
   "metadata": {},
   "outputs": [
    {
     "name": "stdout",
     "output_type": "stream",
     "text": [
      "전체 샘플의 수 : 1797\n"
     ]
    }
   ],
   "source": [
    "print('전체 샘플의 수 : {}'.format(len(digits.images)))"
   ]
  },
  {
   "cell_type": "markdown",
   "id": "40250853",
   "metadata": {},
   "source": [
    "이번에는 상위 5개의 샘플들을 시각화 해보겠습니다."
   ]
  },
  {
   "cell_type": "code",
   "execution_count": 6,
   "id": "fa5098c9",
   "metadata": {},
   "outputs": [
    {
     "data": {
      "image/png": "[encoded data removed]",
      "text/plain": [
       "<Figure size 432x288 with 5 Axes>"
      ]
     },
     "metadata": {
      "needs_background": "light"
     },
     "output_type": "display_data"
    }
   ],
   "source": [
    "images_and_labels = list(zip(digits.images, digits.target))\n",
    "for index, (image, label) in enumerate(images_and_labels[:5]): # 5개의 샘플만을 출력\n",
    "    plt.subplot(2, 5, index + 1)\n",
    "    plt.axis('off')\n",
    "    plt.imshow(image, cmap=plt.cm.gray_r, interpolation='nearest')\n",
    "    plt.title('sample: %i' % label)"
   ]
  },
  {
   "cell_type": "markdown",
   "id": "86f4c373",
   "metadata": {},
   "source": [
    "상위 5개의 샘플을 시각화한 결과 0, 1, 2, 3, 4의 손글씨 형태임을 확인할 수 있습니다. <br>\n",
    "그렇다면, 실제 답을 확인해보겠습니다."
   ]
  },
  {
   "cell_type": "code",
   "execution_count": 7,
   "id": "9c1707ba",
   "metadata": {},
   "outputs": [
    {
     "name": "stdout",
     "output_type": "stream",
     "text": [
      "0 번 인덱스 샘플의 label:  0\n",
      "1 번 인덱스 샘플의 label:  1\n",
      "2 번 인덱스 샘플의 label:  2\n",
      "3 번 인덱스 샘플의 label:  3\n",
      "4 번 인덱스 샘플의 label:  4\n"
     ]
    }
   ],
   "source": [
    "for i in range(5):\n",
    "    print(i, '번 인덱스 샘플의 label: ', digits.target[i])"
   ]
  },
  {
   "cell_type": "markdown",
   "id": "8eb941bb",
   "metadata": {},
   "source": [
    "이제 훈련 데이터와 레이블을 X, Y에 저장하겠습니다. digits.images는 모든 샘플을 8 x 8 size로 저장하고 있습니다.<br>\n",
    "더 나은 방법은 digits.data를 사용하는 것인데, 이는 8 x 8 행렬을 전부 64차원 벡터로 저장한 상태입니다.<br>\n",
    "digits.data를 이용해 첫 번쨰 샘플을 출력해보겠습니다."
   ]
  },
  {
   "cell_type": "code",
   "execution_count": 8,
   "id": "8fdf2798",
   "metadata": {},
   "outputs": [
    {
     "name": "stdout",
     "output_type": "stream",
     "text": [
      "[ 0.  0.  5. 13.  9.  1.  0.  0.  0.  0. 13. 15. 10. 15.  5.  0.  0.  3.\n",
      " 15.  2.  0. 11.  8.  0.  0.  4. 12.  0.  0.  8.  8.  0.  0.  5.  8.  0.\n",
      "  0.  9.  8.  0.  0.  4. 11.  0.  1. 12.  7.  0.  0.  2. 14.  5. 10. 12.\n",
      "  0.  0.  0.  0.  6. 13. 10.  0.  0.  0.]\n"
     ]
    }
   ],
   "source": [
    "print(digits.data[0])"
   ]
  },
  {
   "cell_type": "code",
   "execution_count": 9,
   "id": "f96f3e45",
   "metadata": {},
   "outputs": [],
   "source": [
    "X = digits.data # 이미지 즉, 특성 행렬\n",
    "Y = digits.target # 각 이미지에 대한 label"
   ]
  },
  {
   "cell_type": "code",
   "execution_count": 11,
   "id": "d718d5f7",
   "metadata": {},
   "outputs": [
    {
     "name": "stderr",
     "output_type": "stream",
     "text": [
      "<ipython-input-11-680dfa9ee119>:13: UserWarning: To copy construct from a tensor, it is recommended to use sourceTensor.clone().detach() or sourceTensor.clone().detach().requires_grad_(True), rather than torch.tensor(sourceTensor).\n",
      "  X = torch.tensor(X, dtype = torch.float32)\n",
      "<ipython-input-11-680dfa9ee119>:14: UserWarning: To copy construct from a tensor, it is recommended to use sourceTensor.clone().detach() or sourceTensor.clone().detach().requires_grad_(True), rather than torch.tensor(sourceTensor).\n",
      "  Y = torch.tensor(Y, dtype = torch.int64)\n"
     ]
    },
    {
     "name": "stdout",
     "output_type": "stream",
     "text": [
      "Epoch    0/100 Cost: 2.418833\n",
      "Epoch   10/100 Cost: 1.913096\n",
      "Epoch   20/100 Cost: 1.549183\n",
      "Epoch   30/100 Cost: 1.194248\n",
      "Epoch   40/100 Cost: 0.876469\n",
      "Epoch   50/100 Cost: 0.635552\n",
      "Epoch   60/100 Cost: 0.471077\n",
      "Epoch   70/100 Cost: 0.361177\n",
      "Epoch   80/100 Cost: 0.286770\n",
      "Epoch   90/100 Cost: 0.235094\n"
     ]
    }
   ],
   "source": [
    "import torch\n",
    "import torch.nn as nn\n",
    "from torch import optim\n",
    "\n",
    "model = nn.Sequential(\n",
    "    nn.Linear(64, 32), # input layer = 64, hidden layer 1 = 32\n",
    "    nn.ReLU(),\n",
    "    nn.Linear(32, 16), # hidden layer 2 = 32, hidden layer 3 = 16\n",
    "    nn.ReLU(),\n",
    "    nn.Linear(16, 10) # hidden layer 3 = 16, output layer = 10\n",
    ")\n",
    "\n",
    "X = torch.tensor(X, dtype = torch.float32)\n",
    "Y = torch.tensor(Y, dtype = torch.int64)\n",
    "\n",
    "loss_fn = nn.CrossEntropyLoss() # 이 비용 함수는 소프트맥스 함수를 포함하고 있다.\n",
    "optimizer = optim.Adam(model.parameters())\n",
    "\n",
    "losses = []\n",
    "\n",
    "for epoch in range(100):\n",
    "    optimizer.zero_grad()\n",
    "    y_pred = model(X) # forward 연산\n",
    "    loss = loss_fn(y_pred, Y)\n",
    "    loss.backward()\n",
    "    optimizer.step()\n",
    "    \n",
    "    if epoch % 10 == 0:\n",
    "        print('Epoch {:4d}/{} Cost: {:.6f}'.format(\n",
    "            epoch, 100, loss.item()\n",
    "        ))\n",
    "        \n",
    "    losses.append(loss.item())"
   ]
  },
  {
   "cell_type": "code",
   "execution_count": 12,
   "id": "94513133",
   "metadata": {},
   "outputs": [
    {
     "data": {
      "text/plain": [
       "[<matplotlib.lines.Line2D at 0x23a01772310>]"
      ]
     },
     "execution_count": 12,
     "metadata": {},
     "output_type": "execute_result"
    },
    {
     "data": {
      "image/png": "[encoded data removed]",
      "text/plain": [
       "<Figure size 432x288 with 1 Axes>"
      ]
     },
     "metadata": {
      "needs_background": "light"
     },
     "output_type": "display_data"
    }
   ],
   "source": [
    "plt.plot(losses)"
   ]
  },
  {
   "cell_type": "code",
   "execution_count": null,
   "id": "e84f1246",
   "metadata": {},
   "outputs": [],
   "source": []
  }
 ],
 "metadata": {
  "kernelspec": {
   "display_name": "Python 3",
   "language": "python",
   "name": "python3"
  },
  "language_info": {
   "codemirror_mode": {
    "name": "ipython",
    "version": 3
   },
   "file_extension": ".py",
   "mimetype": "text/x-python",
   "name": "python",
   "nbconvert_exporter": "python",
   "pygments_lexer": "ipython3",
   "version": "3.8.8"
  }
 },
 "nbformat": 4,
 "nbformat_minor": 5
}
